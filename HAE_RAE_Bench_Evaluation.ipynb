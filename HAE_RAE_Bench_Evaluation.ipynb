{
  "cells": [
    {
      "cell_type": "markdown",
      "metadata": {
        "id": "view-in-github",
        "colab_type": "text"
      },
      "source": [
        "<a href=\"https://colab.research.google.com/github/guijinSON/HAE-RAE-Bench.v2/blob/main/HAE_RAE_Bench_Evaluation.ipynb\" target=\"_parent\"><img src=\"https://colab.research.google.com/assets/colab-badge.svg\" alt=\"Open In Colab\"/></a>"
      ]
    },
    {
      "cell_type": "code",
      "execution_count": 1,
      "metadata": {
        "colab": {
          "base_uri": "https://localhost:8080/"
        },
        "id": "iWW7r-VoUm45",
        "outputId": "32af7cd4-c078-49d3-e48b-442338dad9df"
      },
      "outputs": [
        {
          "output_type": "stream",
          "name": "stdout",
          "text": [
            "Cloning into 'lm-evaluation-harness'...\n",
            "remote: Enumerating objects: 9311, done.\u001b[K\n",
            "remote: Counting objects: 100% (9311/9311), done.\u001b[K\n",
            "remote: Compressing objects: 100% (3282/3282), done.\u001b[K\n",
            "remote: Total 9311 (delta 6033), reused 9206 (delta 5955), pack-reused 0\u001b[K\n",
            "Receiving objects: 100% (9311/9311), 12.29 MiB | 15.05 MiB/s, done.\n",
            "Resolving deltas: 100% (6033/6033), done.\n",
            "Collecting sentencepiece\n",
            "  Downloading sentencepiece-0.1.99-cp310-cp310-manylinux_2_17_x86_64.manylinux2014_x86_64.whl (1.3 MB)\n",
            "\u001b[2K     \u001b[90m━━━━━━━━━━━━━━━━━━━━━━━━━━━━━━━━━━━━━━━━\u001b[0m \u001b[32m1.3/1.3 MB\u001b[0m \u001b[31m16.7 MB/s\u001b[0m eta \u001b[36m0:00:00\u001b[0m\n",
            "\u001b[?25hInstalling collected packages: sentencepiece\n",
            "Successfully installed sentencepiece-0.1.99\n"
          ]
        }
      ],
      "source": [
        "!git clone https://github.com/guijinSON/lm-evaluation-harness.git\n",
        "!pip install sentencepiece"
      ]
    },
    {
      "cell_type": "code",
      "execution_count": 2,
      "metadata": {
        "id": "vBOkw7gnU0m-"
      },
      "outputs": [],
      "source": [
        "import os\n",
        "os.chdir(\"lm-evaluation-harness\")"
      ]
    },
    {
      "cell_type": "code",
      "execution_count": 3,
      "metadata": {
        "id": "0VYwDRwcU79o"
      },
      "outputs": [],
      "source": [
        "%%capture\n",
        "!pip install -e .\n",
        "!pip install -e \".[multilingual]\"\n",
        "!pip install huggingface_hub\n",
        "!python -c \"from huggingface_hub.hf_api import HfFolder; HfFolder.save_token('<HF-TOKEN>')\" # replace <HF-TOKEN> with you huggingface token!"
      ]
    },
    {
      "cell_type": "code",
      "execution_count": null,
      "metadata": {
        "id": "lCB1DSMIC3FA"
      },
      "outputs": [],
      "source": [
        "!python main.py \\\n",
        "    --model hf-causal \\\n",
        "    --model_args pretrained=kyujinpy/KO-Platypus2-13B,dtype=bfloat16\\\n",
        "    --tasks haerae_gk,haerae_lw,haerae_rc,haerae_rw,haerae_sn,haerae_cdm,haerae_du,haerae_hi\\\n",
        "    --batch_size 1\\\n",
        "    --device cuda:0\\\n",
        "    --write_out\\\n",
        "    --output_base_path /content/lm-evaluation-harness"
      ]
    },
    {
      "cell_type": "code",
      "source": [
        "from google.colab import runtime\n",
        "runtime.unassign()"
      ],
      "metadata": {
        "id": "5FvlMEi8q2nk"
      },
      "execution_count": null,
      "outputs": []
    }
  ],
  "metadata": {
    "accelerator": "GPU",
    "colab": {
      "machine_shape": "hm",
      "provenance": [],
      "gpuType": "A100",
      "authorship_tag": "ABX9TyOvGGrh0blEwRP/0dF8+oY9",
      "include_colab_link": true
    },
    "kernelspec": {
      "display_name": "Python 3",
      "name": "python3"
    },
    "language_info": {
      "name": "python"
    }
  },
  "nbformat": 4,
  "nbformat_minor": 0
}